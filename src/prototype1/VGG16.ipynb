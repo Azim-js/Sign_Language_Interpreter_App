{
 "cells": [
  {
   "cell_type": "code",
   "execution_count": 18,
   "metadata": {},
   "outputs": [],
   "source": [
    "import numpy as np \n",
    "import tensorflow as tf\n",
    "import keras\n",
    "from keras import utils,callbacks\n",
    "from keras.models import Sequential,Model\n",
    "from keras.applications.vgg16 import VGG16\n",
    "from keras.layers.core import Dropout,Flatten,Dense\n",
    "from keras.layers.convolutional import Convolution2D,MaxPooling2D,ZeroPadding2D\n",
    "from keras.optimizers import Adam\n",
    "from sklearn.model_selection import train_test_split, StratifiedKFold\n",
    "from skimage.transform import resize\n",
    "from tensorflow.keras.preprocessing.image import ImageDataGenerator\n",
    "import PIL.Image"
   ]
  },
  {
   "cell_type": "code",
   "execution_count": 2,
   "metadata": {},
   "outputs": [],
   "source": [
    "train_dir=r\"D:\\jupyternotebooks\\prototype 1\\asl_alphabet_train\\asl_alphabet_train\"\n",
    "test_dir=r\"D:\\jupyternotebooks\\prototype 1\\asl_alphabet_test\\asl_alphabet_test\""
   ]
  },
  {
   "cell_type": "code",
   "execution_count": 3,
   "metadata": {},
   "outputs": [],
   "source": [
    "classes=29\n",
    "batch=256\n",
    "epochs=1\n",
    "lnr=0.0001"
   ]
  },
  {
   "cell_type": "code",
   "execution_count": 4,
   "metadata": {},
   "outputs": [
    {
     "name": "stdout",
     "output_type": "stream",
     "text": [
      "Found 78300 images belonging to 29 classes.\n",
      "Found 8700 images belonging to 29 classes.\n"
     ]
    }
   ],
   "source": [
    "img_gen=ImageDataGenerator(rescale=1./255,validation_split=0.1)\n",
    "train=img_gen.flow_from_directory(train_dir,target_size=(64,64),subset=\"training\")\n",
    "eval=img_gen.flow_from_directory(train_dir,target_size=(64,64),subset=\"validation\")"
   ]
  },
  {
   "cell_type": "code",
   "execution_count": 5,
   "metadata": {},
   "outputs": [],
   "source": [
    "adam=Adam(learning_rate=lnr)\n",
    "model=Sequential()\n",
    "model.add(VGG16(weights='imagenet',include_top=False,input_shape=(64,64,3)))\n",
    "model.add(Flatten())\n",
    "model.add(Dense(256,activation='relu'))\n",
    "model.add(Dense(29,activation='softmax'))\n",
    "\n",
    "model.compile(optimizer=adam,loss='categorical_crossentropy',metrics=['accuracy'])"
   ]
  },
  {
   "cell_type": "code",
   "execution_count": 6,
   "metadata": {},
   "outputs": [
    {
     "name": "stdout",
     "output_type": "stream",
     "text": [
      "2447/2447 [==============================] - 1610s 655ms/step - loss: 0.4076 - accuracy: 0.8782 - val_loss: 0.2144 - val_accuracy: 0.9386\n"
     ]
    }
   ],
   "source": [
    "earlystopping=callbacks.EarlyStopping(monitor=\"val_loss\",\n",
    "                                      mode='min',\n",
    "                                      patience=5,\n",
    "                                      restore_best_weights=True)\n",
    "\n",
    "history=model.fit(train,\n",
    "                  validation_data=eval,\n",
    "                  epochs=epochs,\n",
    "                  shuffle=True,\n",
    "                  verbose=1,\n",
    "                  callbacks=[earlystopping])"
   ]
  },
  {
   "cell_type": "code",
   "execution_count": 15,
   "metadata": {},
   "outputs": [
    {
     "name": "stdout",
     "output_type": "stream",
     "text": [
      "Found 28 images belonging to 1 classes.\n"
     ]
    },
    {
     "data": {
      "text/plain": [
       "array([10, 12,  0,  3, 15,  6,  2,  8, 19, 22, 27, 17, 13, 18, 20,  1,  9,\n",
       "       16, 25,  5, 21, 23, 24, 14,  4,  7, 11, 28], dtype=int64)"
      ]
     },
     "execution_count": 15,
     "metadata": {},
     "output_type": "execute_result"
    }
   ],
   "source": [
    "test=ImageDataGenerator(rescale=1./255).flow_from_directory(test_dir,target_size=(64,64),class_mode=None)\n",
    "pred=model.predict(test)\n",
    "pred = np.argmax(pred, axis=1)\n",
    "pred"
   ]
  },
  {
   "cell_type": "code",
   "execution_count": 26,
   "metadata": {},
   "outputs": [
    {
     "name": "stdout",
     "output_type": "stream",
     "text": [
      "INFO:tensorflow:Assets written to: D:\\jupyternotebooks\\prototype 1\\assets\n"
     ]
    }
   ],
   "source": [
    "model.save('D:\\jupyternotebooks\\prototype 1')"
   ]
  },
  {
   "cell_type": "code",
   "execution_count": 27,
   "metadata": {},
   "outputs": [
    {
     "name": "stdout",
     "output_type": "stream",
     "text": [
      "WARNING:tensorflow:7 out of the last 13 calls to <function Model.make_predict_function.<locals>.predict_function at 0x0000019A914FF828> triggered tf.function retracing. Tracing is expensive and the excessive number of tracings could be due to (1) creating @tf.function repeatedly in a loop, (2) passing tensors with different shapes, (3) passing Python objects instead of tensors. For (1), please define your @tf.function outside of the loop. For (2), @tf.function has experimental_relax_shapes=True option that relaxes argument shapes that can avoid unnecessary retracing. For (3), please refer to https://www.tensorflow.org/guide/function#controlling_retracing and https://www.tensorflow.org/api_docs/python/tf/function for  more details.\n"
     ]
    },
    {
     "data": {
      "text/plain": [
       "array([27, 21, 25, 16,  2,  8, 22,  4,  6, 13, 19, 14,  5,  3,  9, 12, 24,\n",
       "        7, 20, 10, 15,  0,  1, 17, 23, 11, 28, 18], dtype=int64)"
      ]
     },
     "execution_count": 27,
     "metadata": {},
     "output_type": "execute_result"
    }
   ],
   "source": [
    "model = keras.models.load_model('D:\\jupyternotebooks\\prototype 1')\n",
    "pred=model.predict(test)\n",
    "pred = np.argmax(pred, axis=1)\n",
    "pred"
   ]
  },
  {
   "cell_type": "code",
   "execution_count": null,
   "metadata": {},
   "outputs": [],
   "source": []
  }
 ],
 "metadata": {
  "kernelspec": {
   "display_name": "Python 3",
   "language": "python",
   "name": "python3"
  },
  "language_info": {
   "codemirror_mode": {
    "name": "ipython",
    "version": 3
   },
   "file_extension": ".py",
   "mimetype": "text/x-python",
   "name": "python",
   "nbconvert_exporter": "python",
   "pygments_lexer": "ipython3",
   "version": "3.7.9"
  }
 },
 "nbformat": 4,
 "nbformat_minor": 4
}
